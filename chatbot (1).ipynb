{
 "cells": [
  {
   "cell_type": "markdown",
   "metadata": {
    "id": "iAbK_E0wx9hO"
   },
   "source": [
    "## KOUSHIK KANEPALLY - 017\n",
    "## CH. VAMSHI - 010\n",
    "## V NARAYANAN - 019"
   ]
  },
  {
   "cell_type": "code",
   "execution_count": null,
   "metadata": {
    "id": "UX-IHmDnKzdp"
   },
   "outputs": [],
   "source": [
    "import numpy as np\n",
    "import random\n",
    "import json\n",
    "import nltk\n",
    "import torch\n",
    "import torch.nn as nn\n",
    "from torch.utils.data import Dataset, DataLoader\n",
    "nltk.download('punkt')\n",
    "\n"
   ]
  },
  {
   "cell_type": "markdown",
   "metadata": {
    "id": "IkfqimbJzkra"
   },
   "source": [
    "\n",
    "### Creating Custom Functions:\n",
    "We will create custom Functions so that it is easy for us to implement afterwards."
   ]
  },
  {
   "cell_type": "code",
   "execution_count": null,
   "metadata": {
    "id": "KmFTdWXBNKhY"
   },
   "outputs": [],
   "source": [
    "def tokenize(sentence):\n",
    "    return nltk.word_tokenize(sentence)\n",
    "#tokenizeit will divide sentence to words\n",
    "\n",
    "def stem(word):\n",
    "    return stemmer.stem(word.lower())\n"
   ]
  },
  {
   "cell_type": "code",
   "execution_count": null,
   "metadata": {
    "id": "bj7CewZ2Jg1x"
   },
   "outputs": [],
   "source": [
    "from nltk.stem.porter import PorterStemmer\n",
    "stemmer = PorterStemmer()\n"
   ]
  },
  {
   "cell_type": "code",
   "execution_count": null,
   "metadata": {},
   "outputs": [],
   "source": [
    "##BAG OF WORDS"
   ]
  },
  {
   "cell_type": "code",
   "execution_count": null,
   "metadata": {
    "id": "ddQDX1wQKYMQ"
   },
   "outputs": [],
   "source": [
    "\n",
    "def bag_of_words(tokenized_sentence, words):\n",
    "    \n",
    "    # stem each word\n",
    "    sentence_words = [stem(word) for word in tokenized_sentence]\n",
    "    # initialize bag with 0 for each word\n",
    "    bag = np.zeros(len(words), dtype=np.float32)\n",
    "    for idx, w in enumerate(words):\n",
    "        if w in sentence_words: \n",
    "            bag[idx] = 1\n",
    "    \n",
    "\n",
    "    return bag"
   ]
  },
  {
   "cell_type": "code",
   "execution_count": null,
   "metadata": {
    "id": "dyslTCEcNm0X"
   },
   "outputs": [],
   "source": [
    "with open('Intent.json', 'r') as f:\n",
    "    intents = json.load(f)\n",
    "intents\n"
   ]
  },
  {
   "cell_type": "markdown",
   "metadata": {
    "id": "oG34WNmv0mSI"
   },
   "source": [
    "\n",
    "In order to get the right information, we will be unpacking it with the following code. \n"
   ]
  },
  {
   "cell_type": "code",
   "execution_count": null,
   "metadata": {
    "id": "-2p39Ghz0pYl"
   },
   "outputs": [],
   "source": [
    "all_words = []\n",
    "tags = []\n",
    "xy = []\n",
    "# loop through each sentence in our intents patterns\n",
    "for intent in intents['intents']:\n",
    "    tag = intent['intent']\n",
    "    # add to tag list\n",
    "    tags.append(tag)\n",
    "    for pattern in intent['text']:\n",
    "        # tokenize each word in the sentence\n",
    "        w = tokenize(pattern)\n",
    "        # add to our words list\n",
    "        all_words.extend(w)\n",
    "        # add to xy pair\n",
    "        xy.append((w, tag))\n"
   ]
  },
  {
   "cell_type": "markdown",
   "metadata": {
    "id": "F4LQ1UgC0vPS"
   },
   "source": [
    "\n",
    "This will separate all the tags & words into their separate lists\n"
   ]
  },
  {
   "cell_type": "markdown",
   "metadata": {
    "id": "3EmUzJjD0xmT"
   },
   "source": [
    "\n",
    "### Cleaning & Preparing the data using our custom functions\n",
    "\n",
    "We will be cleaning the data by implementing the functions we created in our previous cells."
   ]
  },
  {
   "cell_type": "code",
   "execution_count": null,
   "metadata": {
    "colab": {
     "base_uri": "https://localhost:8080/",
     "height": 85
    },
    "id": "Q0DOKFv5OP_Y",
    "outputId": "ba8a35a2-adf2-4725-8854-3846af2eb7b0"
   },
   "outputs": [],
   "source": [
    "# stem and lower each word\n",
    "ignore_words = ['?', '.', '!']\n",
    "all_words = [stem(w) for w in all_words if w not in ignore_words]\n",
    "# remove duplicates and sort\n",
    "all_words = sorted(set(all_words))\n",
    "tags = sorted(set(tags))\n",
    "\n",
    "print(len(xy), \"patterns\")\n",
    "#143 rows\n",
    "print(len(tags), \"tags:\", tags)\n",
    "#22 classes ->22  output neurons in the final layer\n",
    "print(len(all_words), \"unique stemmed words:\", all_words)\n",
    "#114 input neurons in the input layer\n",
    "xy"
   ]
  },
  {
   "cell_type": "markdown",
   "metadata": {
    "id": "yD89rBDx1PSh"
   },
   "source": [
    "\n",
    "### Creating Training Data: \n",
    "We will transform the data into a format that our PyTorch Model can Easily Understand\n"
   ]
  },
  {
   "cell_type": "code",
   "execution_count": null,
   "metadata": {
    "id": "7s-rOPCaO355"
   },
   "outputs": [],
   "source": [
    "# create training data\n",
    "X_train = []\n",
    "y_train = []\n",
    "for (pattern_sentence, tag) in xy:\n",
    "    # X: bag of words for each pattern_sentence\n",
    "    bag = bag_of_words(pattern_sentence, all_words)\n",
    "    X_train.append(bag)\n",
    "    \n",
    "    label = tags.index(tag)\n",
    "    y_train.append(label)\n",
    "\n",
    "X_train = np.array(X_train)\n",
    "y_train = np.array(y_train)\n",
    "y_train\n"
   ]
  },
  {
   "cell_type": "markdown",
   "metadata": {
    "id": "F_m272pI1S7x"
   },
   "source": [
    "\n",
    "    `One hot encoding Is the process of splitting multiclass or multi valued data column to separate columns and labelling the cell 1 in the row where it exists. (we won’t use it so don’t worry about it)`\n"
   ]
  },
  {
   "cell_type": "code",
   "execution_count": null,
   "metadata": {
    "id": "Nzu2XD-5QhK1"
   },
   "outputs": [],
   "source": [
    "class NeuralNet(nn.Module):\n",
    "    def __init__(self, input_size, hidden_size, num_classes):\n",
    "        super(NeuralNet, self).__init__()\n",
    "        self.l1 = nn.Linear(input_size, hidden_size) \n",
    "        #input layer to hidden layer\n",
    "        self.l2 = nn.Linear(hidden_size, hidden_size) \n",
    "        #hidden layer to hidden layer\n",
    "        self.l3 = nn.Linear(hidden_size, num_classes)\n",
    "        #hidden layer to output layer\n",
    "        self.relu = nn.ReLU()\n",
    "    \n",
    "    def forward(self, x):\n",
    "        #send to 1st hidden layer\n",
    "        out = self.l1(x)\n",
    "        #activate 1st hidden\n",
    "        out = self.relu(out)\n",
    "        #send to 2nd hidden\n",
    "        out = self.l2(out)\n",
    "        #activate second hidden\n",
    "        out = self.relu(out)\n",
    "          #send to output layer\n",
    "        out = self.l3(out)\n",
    "\n",
    "        return out"
   ]
  },
  {
   "cell_type": "code",
   "execution_count": null,
   "metadata": {
    "id": "Btm83RGv2Z2s"
   },
   "outputs": [],
   "source": [
    "class ChatDataset(Dataset):\n",
    "\n",
    "    def __init__(self):\n",
    "        #26 samples\n",
    "        self.n_samples = len(X_train)\n",
    "        #26 samples with 1 hort encoding\n",
    "        self.x_data = X_train\n",
    "        #26 smapoles with class number\n",
    "        self.y_data = y_train\n",
    "\n",
    "    # support indexing such that dataset[i] can be used to get i-th sample\n",
    "    def __getitem__(self, index):\n",
    "        return self.x_data[index], self.y_data[index]\n",
    "\n",
    "    # we can call len(dataset) to return the size\n",
    "    def __len__(self):\n",
    "        return self.n_samples"
   ]
  },
  {
   "cell_type": "code",
   "execution_count": null,
   "metadata": {
    "colab": {
     "base_uri": "https://localhost:8080/",
     "height": 32
    },
    "id": "4ZWPYYnTO7Cb",
    "outputId": "d2f1f117-1be2-4c8b-f855-bd49d2f1710c"
   },
   "outputs": [],
   "source": [
    "#26 rows\n",
    "#8*3+2 =  1 epoch\n",
    "#weight is getting updated after 8 rows\n",
    "# Hyper-parameters \n",
    "num_epochs = 1000\n",
    "batch_size = 8\n",
    "learning_rate = 0.001\n",
    "input_size = len(X_train[0])\n",
    "hidden_size = 8\n",
    "output_size = len(tags)\n",
    "print(input_size, output_size)"
   ]
  },
  {
   "cell_type": "code",
   "execution_count": null,
   "metadata": {
    "id": "4X5AN0ikPCmR",
    "scrolled": true
   },
   "outputs": [],
   "source": [
    "dataset = ChatDataset()\n",
    "train_loader = DataLoader(dataset=dataset,\n",
    "                          batch_size=batch_size,\n",
    "                          shuffle=True,\n",
    "                          num_workers=0)\n",
    "\n",
    "device = torch.device('cuda' if torch.cuda.is_available() else 'cpu')\n",
    "\n",
    "model = NeuralNet(input_size, hidden_size, output_size).to(device)\n",
    "\n",
    "# Loss and optimizer\n",
    "criterion = nn.CrossEntropyLoss()\n",
    "optimizer = torch.optim.Adam(model.parameters(), lr=learning_rate)\n",
    "for s,y in train_loader:\n",
    "  print(len(s[0]))\n",
    "  print(y)"
   ]
  },
  {
   "cell_type": "markdown",
   "metadata": {
    "id": "TjRZC0f52riv"
   },
   "source": [
    "\n",
    "## Training the Model\n",
    "---\n"
   ]
  },
  {
   "cell_type": "code",
   "execution_count": null,
   "metadata": {
    "colab": {
     "base_uri": "https://localhost:8080/",
     "height": 197
    },
    "id": "6vaFH57TPLe2",
    "outputId": "b768f2ba-35f5-4a8f-e9f9-b5842c67a0f3"
   },
   "outputs": [],
   "source": [
    "\n",
    "# Train the model\n",
    "for epoch in range(num_epochs):\n",
    "    for (words, labels) in train_loader:\n",
    "        words = words.to(device)\n",
    "        labels = labels.to(dtype=torch.long).to(device)\n",
    "        \n",
    "        # Forward pass\n",
    "        outputs = model(words)\n",
    "        \n",
    "        loss = criterion(outputs, labels)\n",
    "        \n",
    "        # Backward and optimize\n",
    "        optimizer.zero_grad()\n",
    "        loss.backward()\n",
    "        optimizer.step()\n",
    "        \n",
    "    if (epoch+1) % 100 == 0:\n",
    "        print (f'Epoch [{epoch+1}/{num_epochs}], Loss: {loss.item():.4f}')\n",
    "\n",
    "\n",
    "print(f'final loss: {loss.item():.4f}')\n",
    "\n",
    "data = {\n",
    "\"model_state\": model.state_dict(),\n",
    "\"input_size\": input_size,\n",
    "\"hidden_size\": hidden_size,\n",
    "\"output_size\": output_size,\n",
    "\"all_words\": all_words,\n",
    "\"tags\": tags\n",
    "}"
   ]
  },
  {
   "cell_type": "code",
   "execution_count": null,
   "metadata": {
    "colab": {
     "base_uri": "https://localhost:8080/",
     "height": 32
    },
    "id": "TIQP3GpfPOm2",
    "outputId": "7189f77f-e7c0-4d22-d645-7be9d255856b"
   },
   "outputs": [],
   "source": [
    "\n",
    "FILE = \"data.pth\"\n",
    "torch.save(data, FILE)\n",
    "\n",
    "print(f'training complete. file saved to {FILE}')\n"
   ]
  },
  {
   "cell_type": "markdown",
   "metadata": {
    "id": "IH52MJobTFEU"
   },
   "source": [
    "\n",
    "## Loading our Saved Model\n",
    "---"
   ]
  },
  {
   "cell_type": "code",
   "execution_count": null,
   "metadata": {
    "colab": {
     "base_uri": "https://localhost:8080/",
     "height": 115
    },
    "id": "FX0f_8TgPRqK",
    "outputId": "865b4c48-c7d0-4d04-fa33-c733eb817081"
   },
   "outputs": [],
   "source": [
    "\n",
    "device = torch.device('cuda' if torch.cuda.is_available() else 'cpu')\n",
    "\n",
    "with open('Intent.json', 'r') as json_data:\n",
    "    intents = json.load(json_data)\n",
    "\n",
    "FILE = \"data.pth\"\n",
    "data = torch.load(FILE)\n",
    "\n",
    "input_size = data[\"input_size\"]\n",
    "hidden_size = data[\"hidden_size\"]\n",
    "output_size = data[\"output_size\"]\n",
    "all_words = data['all_words']\n",
    "tags = data['tags']\n",
    "model_state = data[\"model_state\"]\n",
    "\n",
    "model = NeuralNet(input_size, hidden_size, output_size).to(device)\n",
    "model.load_state_dict(model_state)\n",
    "model.eval()\n"
   ]
  },
  {
   "cell_type": "markdown",
   "metadata": {
    "id": "dLOf1gRd2-YH"
   },
   "source": [
    "\n",
    " \n",
    "## Using the Chatbot:\n"
   ]
  },
  {
   "cell_type": "code",
   "execution_count": null,
   "metadata": {
    "colab": {
     "base_uri": "https://localhost:8080/",
     "height": 543
    },
    "id": "U_tGgw41THXL",
    "outputId": "2574256f-d833-4944-e3c5-6354c0c0bea0"
   },
   "outputs": [],
   "source": [
    "\n",
    "bot_name = \"Amrita Chatbot\"\n",
    "print(\"Let's chat! (type 'quit' to exit)\")\n",
    "while True:\n",
    "    # sentence = \"do you use credit cards?\"\n",
    "    sentence = input(\"You: \")\n",
    "    if sentence == \"quit\":\n",
    "        break\n",
    "\n",
    "    sentence = tokenize(sentence)\n",
    "    X = bag_of_words(sentence, all_words)\n",
    "    print(X)\n",
    "    X = X.reshape(1, X.shape[0])\n",
    "    print(X)\n",
    "    X = torch.from_numpy(X).to(device)\n",
    "\n",
    "    output = model(X)\n",
    "    _, predicted = torch.max(output, dim=1)\n",
    "   \n",
    "    tag = tags[predicted.item()]\n",
    "    print(tag)\n",
    "    probs = torch.softmax(output, dim=1)\n",
    "    print(probs)\n",
    "    prob = probs[0][predicted.item()]\n",
    "    print(prob.item())\n",
    "    if prob.item() > 0.75:\n",
    "        for intent in intents['intents']:\n",
    "            \n",
    "            if tag == intent[\"intent\"]:\n",
    "                print(f\"{bot_name}: {random.choice(intent['responses'])}\")\n",
    "    else:\n",
    "        print(f\"{bot_name}: I do not understand...\")"
   ]
  },
  {
   "cell_type": "code",
   "execution_count": null,
   "metadata": {},
   "outputs": [],
   "source": []
  }
 ],
 "metadata": {
  "colab": {
   "name": "chatbot.ipynb",
   "provenance": [],
   "toc_visible": true
  },
  "kernelspec": {
   "display_name": "Python 3",
   "language": "python",
   "name": "python3"
  },
  "language_info": {
   "codemirror_mode": {
    "name": "ipython",
    "version": 3
   },
   "file_extension": ".py",
   "mimetype": "text/x-python",
   "name": "python",
   "nbconvert_exporter": "python",
   "pygments_lexer": "ipython3",
   "version": "3.8.5"
  }
 },
 "nbformat": 4,
 "nbformat_minor": 1
}
